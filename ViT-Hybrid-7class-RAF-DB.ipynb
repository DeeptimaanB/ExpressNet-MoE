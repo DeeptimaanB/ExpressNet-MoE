{
 "cells": [
  {
   "cell_type": "code",
   "execution_count": 1,
   "id": "0cb299b0-e324-40b1-8963-9ffb85aba9dd",
   "metadata": {},
   "outputs": [
    {
     "name": "stderr",
     "output_type": "stream",
     "text": [
      "2025-03-05 02:52:55.975830: I tensorflow/core/platform/cpu_feature_guard.cc:182] This TensorFlow binary is optimized to use available CPU instructions in performance-critical operations.\n",
      "To enable the following instructions: AVX2 AVX512F FMA, in other operations, rebuild TensorFlow with the appropriate compiler flags.\n",
      "2025-03-05 02:52:56.531522: W tensorflow/compiler/tf2tensorrt/utils/py_utils.cc:38] TF-TRT Warning: Could not find TensorRT\n"
     ]
    }
   ],
   "source": [
    "import os\n",
    "import cv2\n",
    "import numpy as np\n",
    "import pandas as pd\n",
    "import tensorflow as tf\n",
    "import mediapipe as mp\n",
    "import seaborn as sns\n",
    "import matplotlib.pyplot as plt\n",
    "import threading\n",
    "\n",
    "from tensorflow import keras\n",
    "from tensorflow.keras import layers, backend as K\n",
    "from tensorflow.keras.models import Model, Sequential\n",
    "from tensorflow.keras.layers import (\n",
    "    Conv2D, MaxPooling2D, Flatten, Dense, Dropout, Input, Concatenate\n",
    ")\n",
    "from tensorflow.keras.utils import get_custom_objects, to_categorical\n",
    "from tensorflow.keras.applications import ResNet50  # Using ResNet50 as an example for ViT alternative\n",
    "from tensorflow.keras.callbacks import ModelCheckpoint\n",
    "\n",
    "from sklearn.metrics import classification_report, confusion_matrix\n",
    "from sklearn.model_selection import train_test_split\n",
    "\n",
    "from keras_vggface.vggface import VGGFace  # Import VGGFace2 Model\n",
    "from keras_vggface.utils import preprocess_input\n",
    "\n",
    "# Suppress TensorFlow logs (only show errors)\n",
    "tf.get_logger().setLevel('ERROR')\n",
    "os.environ['TF_CPP_MIN_LOG_LEVEL'] = '3'  # Suppresses INFO (1), WARNING (2), and ERROR (3)\n"
   ]
  },
  {
   "cell_type": "code",
   "execution_count": 2,
   "id": "e8ced49c-7152-4a05-ad6c-c84c4ab063c1",
   "metadata": {},
   "outputs": [
    {
     "name": "stdout",
     "output_type": "stream",
     "text": [
      "Training Dataset : label\n",
      "4    4772\n",
      "7    2524\n",
      "5    1982\n",
      "1    1290\n",
      "3     717\n",
      "6     705\n",
      "2     281\n",
      "Name: count, dtype: int64\n",
      "Validation Dataset : label\n",
      "4    1185\n",
      "7     680\n",
      "5     478\n",
      "1     329\n",
      "6     162\n",
      "3     160\n",
      "2      74\n",
      "Name: count, dtype: int64\n"
     ]
    },
    {
     "name": "stderr",
     "output_type": "stream",
     "text": [
      "WARNING: All log messages before absl::InitializeLog() is called are written to STDERR\n",
      "I0000 00:00:1741143178.446810 3636915 gl_context_egl.cc:85] Successfully initialized EGL. Major : 1 Minor: 5\n",
      "I0000 00:00:1741143178.606414 3637015 gl_context.cc:369] GL version: 3.2 (OpenGL ES 3.2 NVIDIA 535.183.06), renderer: NVIDIA TITAN Xp/PCIe/SSE2\n"
     ]
    }
   ],
   "source": [
    "# Load the dataset\n",
    "train_df = pd.read_csv('raf-db/train_labels.csv')\n",
    "val_df = pd.read_csv('raf-db/test_labels.csv')\n",
    "train_df = train_df.rename(columns={'image': 'pth', 'label': 'label'})\n",
    "val_df = val_df.rename(columns={'image': 'pth', 'label': 'label'})\n",
    "\n",
    "BASE_PATH = \"DATASET/train/\"\n",
    "# Function to update paths\n",
    "def update_path(row):\n",
    "    return os.path.join(BASE_PATH, str(row['label']), row['pth'])\n",
    "\n",
    "# Apply function to update the 'path' column\n",
    "train_df['pth'] = train_df.apply(update_path, axis=1)\n",
    "\n",
    "BASE_PATH = \"DATASET/test/\"\n",
    "val_df['pth'] = val_df.apply(update_path, axis=1)\n",
    "\n",
    "print(\"Training Dataset : \" + str(train_df['label'].value_counts()))\n",
    "print(\"Validation Dataset : \" + str(val_df['label'].value_counts()))\n",
    "\n",
    "# Initialize face detection model\n",
    "mp_face_detection = mp.solutions.face_detection\n",
    "face_detector = mp_face_detection.FaceDetection(model_selection=1, min_detection_confidence=0.5)\n",
    "\n",
    "# Set the target image size (IMG_SIZE)\n",
    "IMG_SIZE = 96"
   ]
  },
  {
   "cell_type": "code",
   "execution_count": 3,
   "id": "1ea7adac-f644-4741-9e0e-80162b1de11f",
   "metadata": {},
   "outputs": [
    {
     "data": {
      "text/html": [
       "<div>\n",
       "<style scoped>\n",
       "    .dataframe tbody tr th:only-of-type {\n",
       "        vertical-align: middle;\n",
       "    }\n",
       "\n",
       "    .dataframe tbody tr th {\n",
       "        vertical-align: top;\n",
       "    }\n",
       "\n",
       "    .dataframe thead th {\n",
       "        text-align: right;\n",
       "    }\n",
       "</style>\n",
       "<table border=\"1\" class=\"dataframe\">\n",
       "  <thead>\n",
       "    <tr style=\"text-align: right;\">\n",
       "      <th></th>\n",
       "      <th>pth</th>\n",
       "      <th>label</th>\n",
       "    </tr>\n",
       "  </thead>\n",
       "  <tbody>\n",
       "    <tr>\n",
       "      <th>0</th>\n",
       "      <td>DATASET/test/5/test_0001_aligned.jpg</td>\n",
       "      <td>5</td>\n",
       "    </tr>\n",
       "    <tr>\n",
       "      <th>1</th>\n",
       "      <td>DATASET/test/1/test_0002_aligned.jpg</td>\n",
       "      <td>1</td>\n",
       "    </tr>\n",
       "    <tr>\n",
       "      <th>2</th>\n",
       "      <td>DATASET/test/4/test_0003_aligned.jpg</td>\n",
       "      <td>4</td>\n",
       "    </tr>\n",
       "    <tr>\n",
       "      <th>3</th>\n",
       "      <td>DATASET/test/1/test_0004_aligned.jpg</td>\n",
       "      <td>1</td>\n",
       "    </tr>\n",
       "    <tr>\n",
       "      <th>4</th>\n",
       "      <td>DATASET/test/5/test_0005_aligned.jpg</td>\n",
       "      <td>5</td>\n",
       "    </tr>\n",
       "  </tbody>\n",
       "</table>\n",
       "</div>"
      ],
      "text/plain": [
       "                                    pth  label\n",
       "0  DATASET/test/5/test_0001_aligned.jpg      5\n",
       "1  DATASET/test/1/test_0002_aligned.jpg      1\n",
       "2  DATASET/test/4/test_0003_aligned.jpg      4\n",
       "3  DATASET/test/1/test_0004_aligned.jpg      1\n",
       "4  DATASET/test/5/test_0005_aligned.jpg      5"
      ]
     },
     "execution_count": 3,
     "metadata": {},
     "output_type": "execute_result"
    },
    {
     "name": "stderr",
     "output_type": "stream",
     "text": [
      "INFO: Created TensorFlow Lite XNNPACK delegate for CPU.\n"
     ]
    }
   ],
   "source": [
    "val_df.head()"
   ]
  },
  {
   "cell_type": "code",
   "execution_count": 4,
   "id": "835333a5-04e0-4312-8e7f-568a6ae02bc6",
   "metadata": {},
   "outputs": [
    {
     "name": "stderr",
     "output_type": "stream",
     "text": [
      "W0000 00:00:1741143178.664575 3637006 inference_feedback_manager.cc:114] Feedback manager requires a model with a single signature inference. Disabling support for feedback tensors.\n"
     ]
    }
   ],
   "source": [
    "lock = threading.Lock()\n",
    "def detect_and_crop_face(image):\n",
    "    \"\"\"Detects and crops the face using BlazeFace (MediaPipe), then resizes to target size.\"\"\"\n",
    "    with lock:\n",
    "        if image is None:\n",
    "            print(\"Empty\")\n",
    "            \n",
    "        img_rgb = cv2.cvtColor(image, cv2.COLOR_BGR2RGB)\n",
    "        \n",
    "        # Process the image with face detection\n",
    "        results = face_detector.process(img_rgb)\n",
    "    \n",
    "        if results.detections:\n",
    "            for detection in results.detections:\n",
    "                bboxC = detection.location_data.relative_bounding_box\n",
    "                h, w, _ = image.shape\n",
    "    \n",
    "                # Calculate bounding box coordinates\n",
    "                x_min = int(bboxC.xmin * w)\n",
    "                y_min = int(bboxC.ymin * h)\n",
    "                box_width = int(bboxC.width * w)\n",
    "                box_height = int(bboxC.height * h)\n",
    "    \n",
    "                # Optionally expand the bounding box slightly\n",
    "                x_min = max(0, x_min - box_width // 10)\n",
    "                y_min = max(0, y_min - box_height // 10)\n",
    "                box_width = min(w, box_width + box_width // 5)\n",
    "                box_height = min(h, box_height + box_height // 5)\n",
    "    \n",
    "                # Crop the face from the image using the bounding box\n",
    "                cropped_face = image[y_min:y_min + box_height, x_min:x_min + box_width]\n",
    "                \n",
    "                # Resize the cropped face to the target size (IMG_SIZE x IMG_SIZE)\n",
    "                return cv2.resize(cropped_face, (IMG_SIZE, IMG_SIZE))\n",
    "    \n",
    "        # If no face detected, return resized version of the original image\n",
    "        return cv2.resize(image, (IMG_SIZE, IMG_SIZE))"
   ]
  },
  {
   "cell_type": "code",
   "execution_count": 5,
   "id": "a029dc66-7d0e-406f-9e96-9319af36ed4f",
   "metadata": {},
   "outputs": [],
   "source": [
    "# Define emotion labels\n",
    "emotion_labels = ['1', '2', '3', '4', '5', '6', '7']\n",
    "num_classes = len(emotion_labels)  # 7 classes\n",
    "\n",
    "def image_generator(dataframe, batch_size=32):\n",
    "    while True:\n",
    "        batch_images = []\n",
    "        batch_labels = []\n",
    "        \n",
    "        dataframe = dataframe.sample(frac=1).reset_index(drop=True)  # Shuffle at start of epoch\n",
    "\n",
    "        for i in range(len(dataframe)):\n",
    "            row = dataframe.iloc[i]\n",
    "            img_path = os.path.join('raf-db', row['pth'])  # Ensure path correctness\n",
    "            image = cv2.imread(img_path)\n",
    "\n",
    "            # Detect and crop the face\n",
    "            face = detect_and_crop_face(image)\n",
    "            if face is not None:\n",
    "                batch_images.append(face)\n",
    "\n",
    "                # Convert label from string to index\n",
    "                label_str = str(row['label'])\n",
    "                if label_str not in emotion_labels:\n",
    "                    print(f\"Warning: Unexpected label '{label_str}' found!\")\n",
    "                    continue  # Skip if label is not in predefined list\n",
    "\n",
    "                label_index = emotion_labels.index(label_str)  # Convert \"happy\" -> 4\n",
    "\n",
    "                # Fix: Ensure correct shape for one-hot encoding\n",
    "                one_hot_label = to_categorical(label_index, num_classes=num_classes)\n",
    "\n",
    "                batch_labels.append(one_hot_label)\n",
    "\n",
    "            # Yield batch when full\n",
    "            if len(batch_images) == batch_size:\n",
    "                yield np.array(batch_images).astype('float32') / 255.0, np.array(batch_labels)\n",
    "                batch_images = []\n",
    "                batch_labels = []\n",
    "\n",
    "        # Yield remaining images if any\n",
    "        if len(batch_images) > 0:\n",
    "            yield np.array(batch_images).astype('float32') / 255.0, np.array(batch_labels)\n"
   ]
  },
  {
   "cell_type": "code",
   "execution_count": 6,
   "id": "de3ec3a9-ad9c-48e3-86d8-a81396e53c38",
   "metadata": {},
   "outputs": [
    {
     "name": "stdout",
     "output_type": "stream",
     "text": [
      "Batch X shape: (32, 96, 96, 3)\n",
      "Batch Y shape: (32, 7)\n"
     ]
    }
   ],
   "source": [
    "x_batch, y_batch = next(image_generator(train_df, batch_size=32))\n",
    "print(\"Batch X shape:\", x_batch.shape)  # Expected: (batch_size, 96, 96, 3)\n",
    "print(\"Batch Y shape:\", y_batch.shape)  # Expected: (batch_size, 8) for one-hot labels"
   ]
  },
  {
   "cell_type": "code",
   "execution_count": 7,
   "id": "30ae788e-33fe-4ef6-8665-9b0e9deb0a47",
   "metadata": {},
   "outputs": [
    {
     "name": "stderr",
     "output_type": "stream",
     "text": [
      "2025-03-05 02:52:59.623753: I tensorflow/core/common_runtime/gpu/gpu_device.cc:1635] Created device /job:localhost/replica:0/task:0/device:GPU:0 with 2698 MB memory:  -> device: 0, name: NVIDIA TITAN Xp, pci bus id: 0000:19:00.0, compute capability: 6.1\n",
      "2025-03-05 02:52:59.625041: I tensorflow/core/common_runtime/gpu/gpu_device.cc:1635] Created device /job:localhost/replica:0/task:0/device:GPU:1 with 6643 MB memory:  -> device: 1, name: NVIDIA TITAN Xp, pci bus id: 0000:1a:00.0, compute capability: 6.1\n",
      "2025-03-05 02:52:59.626213: I tensorflow/core/common_runtime/gpu/gpu_device.cc:1635] Created device /job:localhost/replica:0/task:0/device:GPU:2 with 8387 MB memory:  -> device: 2, name: NVIDIA TITAN Xp, pci bus id: 0000:67:00.0, compute capability: 6.1\n",
      "2025-03-05 02:52:59.627243: I tensorflow/core/common_runtime/gpu/gpu_device.cc:1635] Created device /job:localhost/replica:0/task:0/device:GPU:3 with 10021 MB memory:  -> device: 3, name: NVIDIA TITAN Xp, pci bus id: 0000:68:00.0, compute capability: 6.1\n"
     ]
    },
    {
     "name": "stdout",
     "output_type": "stream",
     "text": [
      "Model: \"FER_IdentityAware_MoE\"\n",
      "__________________________________________________________________________________________________\n",
      " Layer (type)                   Output Shape         Param #     Connected to                     \n",
      "==================================================================================================\n",
      " input_1 (InputLayer)           [(None, 96, 96, 3)]  0           []                               \n",
      "                                                                                                  \n",
      " CNNFeatureExtractor (Functiona  (None, 256)         127168      ['input_1[0][0]']                \n",
      " l)                                                                                               \n",
      "                                                                                                  \n",
      " TransformerFeatureExtractor (F  (None, 512)         24636800    ['input_1[0][0]']                \n",
      " unctional)                                                                                       \n",
      "                                                                                                  \n",
      " concatenate (Concatenate)      (None, 768)          0           ['CNNFeatureExtractor[0][0]',    \n",
      "                                                                  'TransformerFeatureExtractor[0][\n",
      "                                                                 0]']                             \n",
      "                                                                                                  \n",
      " dense_3 (Dense)                (None, 2048)         1574912     ['concatenate[0][0]']            \n",
      "                                                                                                  \n",
      " IdentityNormalization (Functio  (None, 128)         28608       ['input_1[0][0]']                \n",
      " nal)                                                                                             \n",
      "                                                                                                  \n",
      " dropout_2 (Dropout)            (None, 2048)         0           ['dense_3[0][0]']                \n",
      "                                                                                                  \n",
      " MoE_Identity (Functional)      (None, 128)          66564       ['IdentityNormalization[0][0]']  \n",
      "                                                                                                  \n",
      " MoE_Expression (Functional)    (None, 2048)         16793604    ['dropout_2[0][0]']              \n",
      "                                                                                                  \n",
      " concatenate_1 (Concatenate)    (None, 2176)         0           ['MoE_Identity[0][0]',           \n",
      "                                                                  'MoE_Expression[0][0]']         \n",
      "                                                                                                  \n",
      " dense_14 (Dense)               (None, 7)            15239       ['concatenate_1[0][0]']          \n",
      "                                                                                                  \n",
      "==================================================================================================\n",
      "Total params: 43,242,895\n",
      "Trainable params: 43,188,879\n",
      "Non-trainable params: 54,016\n",
      "__________________________________________________________________________________________________\n"
     ]
    }
   ],
   "source": [
    "# Identity Normalization (Idn) Module with Batch Normalization\n",
    "def create_identity_normalization():\n",
    "    inputs = keras.Input(shape=(96, 96, 3))\n",
    "    x = layers.Conv2D(32, (3, 3), activation=\"relu\", padding=\"same\")(inputs)\n",
    "    x = layers.BatchNormalization()(x)\n",
    "    x = layers.MaxPooling2D((2, 2))(x)\n",
    "    x = layers.Conv2D(64, (3, 3), activation=\"relu\", padding=\"same\")(x)\n",
    "    x = layers.BatchNormalization()(x)\n",
    "    x = layers.GlobalAveragePooling2D()(x)\n",
    "    x = layers.Dense(128, activation=\"relu\")(x)\n",
    "    x = layers.BatchNormalization()(x)\n",
    "    return keras.Model(inputs, x, name=\"IdentityNormalization\")\n",
    "\n",
    "# Mixture of Experts (MoE) Module with Improved Gating\n",
    "def create_moe(input_dim, num_experts=4, top_k=2, name=\"MoE\"):\n",
    "    inputs = keras.Input(shape=(input_dim,))\n",
    "    experts = [layers.Dense(input_dim, activation=\"relu\") for _ in range(num_experts)]\n",
    "    \n",
    "    gating_logits = layers.Dense(num_experts)(inputs)\n",
    "    gating = layers.Softmax()(gating_logits)\n",
    "    \n",
    "    expert_outputs = tf.stack([experts[i](inputs) for i in range(num_experts)], axis=1)\n",
    "    top_k_values, top_k_indices = tf.math.top_k(gating, k=top_k)\n",
    "\n",
    "    output = tf.zeros_like(inputs)\n",
    "    for i in range(top_k):\n",
    "        expert_idx = top_k_indices[:, i]\n",
    "        expert_out = tf.gather(expert_outputs, expert_idx, axis=1, batch_dims=1)\n",
    "        output += tf.expand_dims(top_k_values[:, i], -1) * expert_out\n",
    "    \n",
    "    return keras.Model(inputs, output, name=name)\n",
    "\n",
    "# CNN Feature Extractor with Dropout\n",
    "def create_cnn_feature_extractor():\n",
    "    inputs = keras.Input(shape=(96, 96, 3))\n",
    "    x = layers.Conv2D(32, (3, 3), activation=\"relu\", padding=\"same\")(inputs)\n",
    "    x = layers.BatchNormalization()(x)\n",
    "    x = layers.MaxPooling2D((2, 2))(x)\n",
    "    x = layers.Conv2D(64, (3, 3), activation=\"relu\", padding=\"same\")(x)\n",
    "    x = layers.BatchNormalization()(x)\n",
    "    x = layers.MaxPooling2D((2, 2))(x)\n",
    "    x = layers.Conv2D(128, (3, 3), activation=\"relu\", padding=\"same\")(x)\n",
    "    x = layers.BatchNormalization()(x)\n",
    "    x = layers.GlobalAveragePooling2D()(x)\n",
    "    x = layers.Dense(256, activation=\"relu\")(x)\n",
    "    x = layers.Dropout(0.3)(x)\n",
    "    return keras.Model(inputs, x, name=\"CNNFeatureExtractor\")\n",
    "\n",
    "# Transformer Feature Extractor using ResNet50\n",
    "def create_transformer_feature_extractor():\n",
    "    inputs = keras.Input(shape=(96, 96, 3))\n",
    "    base_model = ResNet50(input_shape=(96, 96, 3), include_top=False, weights=\"imagenet\")(inputs)\n",
    "    x = layers.GlobalAveragePooling2D()(base_model)\n",
    "    x = layers.Dense(512, activation=\"relu\")(x)\n",
    "    x = layers.Dropout(0.3)(x)\n",
    "    return keras.Model(inputs, x, name=\"TransformerFeatureExtractor\")\n",
    "\n",
    "# Complete FER Model\n",
    "def create_fer_model(num_classes=7):\n",
    "    inputs = keras.Input(shape=(96, 96, 3))\n",
    "    \n",
    "    idn_model = create_identity_normalization()\n",
    "    cnn_model = create_cnn_feature_extractor()\n",
    "    transformer_model = create_transformer_feature_extractor()\n",
    "    \n",
    "    identity_features = idn_model(inputs)\n",
    "    cnn_features = cnn_model(inputs)\n",
    "    transformer_features = transformer_model(inputs)\n",
    "    \n",
    "    combined_features = layers.Concatenate()([cnn_features, transformer_features])\n",
    "    dense_layer = layers.Dense(2048, activation=\"relu\")(combined_features)\n",
    "    dense_layer = layers.Dropout(0.3)(dense_layer)  # Prevent Overfitting\n",
    "    \n",
    "    idn_moe = create_moe(128, name=\"MoE_Identity\")(identity_features)\n",
    "    expression_moe = create_moe(2048, name=\"MoE_Expression\")(dense_layer)\n",
    "    \n",
    "    final_features = layers.Concatenate()([idn_moe, expression_moe])\n",
    "    output = layers.Dense(num_classes, activation=\"softmax\")(final_features)\n",
    "    \n",
    "    return keras.Model(inputs, output, name=\"FER_IdentityAware_MoE\")\n",
    "\n",
    "# Compile and Initialize Model\n",
    "num_classes = 7\n",
    "model = create_fer_model(num_classes)\n",
    "model.compile(optimizer=keras.optimizers.Adam(learning_rate=1e-4), \n",
    "              loss=\"categorical_crossentropy\", \n",
    "              metrics=[\"accuracy\"])\n",
    "\n",
    "# Update model checkpoint to save the best model based on validation accuracy\n",
    "checkpoint = ModelCheckpoint('AffectNet-Ensemble-Vision-RAB-DB.h5', monitor='val_accuracy', save_best_only=True, mode='max', verbose=1)\n",
    "\n",
    "model.summary()\n"
   ]
  },
  {
   "cell_type": "code",
   "execution_count": 8,
   "id": "759997a2-fcf8-4e01-92fe-59eaf81fd23e",
   "metadata": {},
   "outputs": [
    {
     "name": "stdout",
     "output_type": "stream",
     "text": [
      "Epoch 1/15\n"
     ]
    },
    {
     "name": "stderr",
     "output_type": "stream",
     "text": [
      "2025-03-05 02:53:02.313163: I tensorflow/core/common_runtime/executor.cc:1197] [/device:CPU:0] (DEBUG INFO) Executor start aborting (this does not indicate an error and you can ignore this message): INVALID_ARGUMENT: You must feed a value for placeholder tensor 'Placeholder/_0' with dtype int32\n",
      "\t [[{{node Placeholder/_0}}]]\n",
      "2025-03-05 02:53:13.743887: I tensorflow/compiler/xla/stream_executor/cuda/cuda_dnn.cc:424] Loaded cuDNN version 8600\n",
      "2025-03-05 02:53:14.401177: I tensorflow/compiler/xla/service/service.cc:169] XLA service 0x7f8d2c015640 initialized for platform CUDA (this does not guarantee that XLA will be used). Devices:\n",
      "2025-03-05 02:53:14.401204: I tensorflow/compiler/xla/service/service.cc:177]   StreamExecutor device (0): NVIDIA TITAN Xp, Compute Capability 6.1\n",
      "2025-03-05 02:53:14.401209: I tensorflow/compiler/xla/service/service.cc:177]   StreamExecutor device (1): NVIDIA TITAN Xp, Compute Capability 6.1\n",
      "2025-03-05 02:53:14.401213: I tensorflow/compiler/xla/service/service.cc:177]   StreamExecutor device (2): NVIDIA TITAN Xp, Compute Capability 6.1\n",
      "2025-03-05 02:53:14.401217: I tensorflow/compiler/xla/service/service.cc:177]   StreamExecutor device (3): NVIDIA TITAN Xp, Compute Capability 6.1\n",
      "2025-03-05 02:53:14.405129: I tensorflow/compiler/mlir/tensorflow/utils/dump_mlir_util.cc:269] disabling MLIR crash reproducer, set env var `MLIR_CRASH_REPRODUCER_DIRECTORY` to enable.\n",
      "2025-03-05 02:53:14.425311: W tensorflow/compiler/xla/service/gpu/llvm_gpu_backend/gpu_backend_lib.cc:530] Can't find libdevice directory ${CUDA_DIR}/nvvm/libdevice. This may result in compilation or runtime failures, if the program we try to run uses routines from libdevice.\n",
      "Searched for CUDA in the following directories:\n",
      "  ./cuda_sdk_lib\n",
      "  /usr/local/cuda-11.8\n",
      "  /usr/local/cuda\n",
      "  .\n",
      "You can choose the search directory by setting xla_gpu_cuda_data_dir in HloModule's DebugOptions.  For most apps, setting the environment variable XLA_FLAGS=--xla_gpu_cuda_data_dir=/path/to/cuda will work.\n",
      "2025-03-05 02:53:14.509290: I ./tensorflow/compiler/jit/device_compiler.h:180] Compiled cluster using XLA!  This line is logged at most once for the lifetime of the process.\n",
      "2025-03-05 02:53:16.429965: W tensorflow/tsl/framework/bfc_allocator.cc:296] Allocator (GPU_0_bfc) ran out of memory trying to allocate 2.27GiB with freed_by_count=0. The caller indicates that this is not a failure, but this may mean that there could be performance gains if more memory were available.\n",
      "2025-03-05 02:53:16.463900: W tensorflow/tsl/framework/bfc_allocator.cc:296] Allocator (GPU_0_bfc) ran out of memory trying to allocate 2.41GiB with freed_by_count=0. The caller indicates that this is not a failure, but this may mean that there could be performance gains if more memory were available.\n",
      "2025-03-05 02:53:17.605921: W tensorflow/tsl/framework/bfc_allocator.cc:296] Allocator (GPU_0_bfc) ran out of memory trying to allocate 2.30GiB with freed_by_count=0. The caller indicates that this is not a failure, but this may mean that there could be performance gains if more memory were available.\n",
      "2025-03-05 02:53:17.756849: W tensorflow/tsl/framework/bfc_allocator.cc:296] Allocator (GPU_0_bfc) ran out of memory trying to allocate 2.27GiB with freed_by_count=0. The caller indicates that this is not a failure, but this may mean that there could be performance gains if more memory were available.\n",
      "2025-03-05 02:53:19.980755: W tensorflow/tsl/framework/bfc_allocator.cc:296] Allocator (GPU_0_bfc) ran out of memory trying to allocate 4.57GiB with freed_by_count=0. The caller indicates that this is not a failure, but this may mean that there could be performance gains if more memory were available.\n"
     ]
    },
    {
     "name": "stdout",
     "output_type": "stream",
     "text": [
      "383/383 [==============================] - ETA: 0s - loss: 1.1354 - accuracy: 0.5912"
     ]
    },
    {
     "name": "stderr",
     "output_type": "stream",
     "text": [
      "2025-03-05 02:56:00.661149: I tensorflow/core/common_runtime/executor.cc:1197] [/device:CPU:0] (DEBUG INFO) Executor start aborting (this does not indicate an error and you can ignore this message): INVALID_ARGUMENT: You must feed a value for placeholder tensor 'Placeholder/_0' with dtype int32\n",
      "\t [[{{node Placeholder/_0}}]]\n"
     ]
    },
    {
     "name": "stdout",
     "output_type": "stream",
     "text": [
      "\n",
      "Epoch 1: val_accuracy improved from -inf to 0.29243, saving model to AffectNet-Ensemble-Vision-RAB-DB.h5\n",
      "383/383 [==============================] - 218s 489ms/step - loss: 1.1354 - accuracy: 0.5912 - val_loss: 2.2808 - val_accuracy: 0.2924\n",
      "Epoch 2/15\n"
     ]
    },
    {
     "name": "stderr",
     "output_type": "stream",
     "text": [
      "2025-03-05 02:56:41.083585: W tensorflow/tsl/framework/bfc_allocator.cc:296] Allocator (GPU_0_bfc) ran out of memory trying to allocate 2.27GiB with freed_by_count=0. The caller indicates that this is not a failure, but this may mean that there could be performance gains if more memory were available.\n",
      "2025-03-05 02:56:41.098867: W tensorflow/tsl/framework/bfc_allocator.cc:296] Allocator (GPU_0_bfc) ran out of memory trying to allocate 2.33GiB with freed_by_count=0. The caller indicates that this is not a failure, but this may mean that there could be performance gains if more memory were available.\n",
      "2025-03-05 02:56:41.161527: W tensorflow/tsl/framework/bfc_allocator.cc:296] Allocator (GPU_0_bfc) ran out of memory trying to allocate 2.29GiB with freed_by_count=0. The caller indicates that this is not a failure, but this may mean that there could be performance gains if more memory were available.\n",
      "2025-03-05 02:56:41.170772: W tensorflow/tsl/framework/bfc_allocator.cc:296] Allocator (GPU_0_bfc) ran out of memory trying to allocate 2.27GiB with freed_by_count=0. The caller indicates that this is not a failure, but this may mean that there could be performance gains if more memory were available.\n",
      "2025-03-05 02:56:41.219972: W tensorflow/tsl/framework/bfc_allocator.cc:296] Allocator (GPU_0_bfc) ran out of memory trying to allocate 4.55GiB with freed_by_count=0. The caller indicates that this is not a failure, but this may mean that there could be performance gains if more memory were available.\n"
     ]
    },
    {
     "name": "stdout",
     "output_type": "stream",
     "text": [
      "383/383 [==============================] - ETA: 0s - loss: 0.6363 - accuracy: 0.7797\n",
      "Epoch 2: val_accuracy improved from 0.29243 to 0.64309, saving model to AffectNet-Ensemble-Vision-RAB-DB.h5\n",
      "383/383 [==============================] - 188s 490ms/step - loss: 0.6363 - accuracy: 0.7797 - val_loss: 1.0708 - val_accuracy: 0.6431\n",
      "Epoch 3/15\n",
      "383/383 [==============================] - ETA: 0s - loss: 0.3928 - accuracy: 0.8641\n",
      "Epoch 3: val_accuracy improved from 0.64309 to 0.75789, saving model to AffectNet-Ensemble-Vision-RAB-DB.h5\n",
      "383/383 [==============================] - 188s 491ms/step - loss: 0.3928 - accuracy: 0.8641 - val_loss: 0.7476 - val_accuracy: 0.7579\n",
      "Epoch 4/15\n",
      "383/383 [==============================] - ETA: 0s - loss: 0.2489 - accuracy: 0.9150\n",
      "Epoch 4: val_accuracy improved from 0.75789 to 0.80066, saving model to AffectNet-Ensemble-Vision-RAB-DB.h5\n",
      "383/383 [==============================] - 188s 491ms/step - loss: 0.2489 - accuracy: 0.9150 - val_loss: 0.7190 - val_accuracy: 0.8007\n",
      "Epoch 5/15\n",
      "383/383 [==============================] - ETA: 0s - loss: 0.1628 - accuracy: 0.9462\n",
      "Epoch 5: val_accuracy did not improve from 0.80066\n",
      "383/383 [==============================] - 184s 482ms/step - loss: 0.1628 - accuracy: 0.9462 - val_loss: 0.8734 - val_accuracy: 0.7572\n",
      "Epoch 6/15\n",
      "383/383 [==============================] - ETA: 0s - loss: 0.1401 - accuracy: 0.9524\n",
      "Epoch 6: val_accuracy did not improve from 0.80066\n",
      "383/383 [==============================] - 184s 481ms/step - loss: 0.1401 - accuracy: 0.9524 - val_loss: 0.9050 - val_accuracy: 0.7793\n",
      "Epoch 7/15\n",
      "383/383 [==============================] - ETA: 0s - loss: 0.1058 - accuracy: 0.9654\n",
      "Epoch 7: val_accuracy improved from 0.80066 to 0.80263, saving model to AffectNet-Ensemble-Vision-RAB-DB.h5\n",
      "383/383 [==============================] - 188s 491ms/step - loss: 0.1058 - accuracy: 0.9654 - val_loss: 0.7526 - val_accuracy: 0.8026\n",
      "Epoch 8/15\n",
      "383/383 [==============================] - ETA: 0s - loss: 0.0777 - accuracy: 0.9742\n",
      "Epoch 8: val_accuracy did not improve from 0.80263\n",
      "383/383 [==============================] - 185s 483ms/step - loss: 0.0777 - accuracy: 0.9742 - val_loss: 0.9515 - val_accuracy: 0.7895\n",
      "Epoch 9/15\n",
      "383/383 [==============================] - ETA: 0s - loss: 0.0742 - accuracy: 0.9774\n",
      "Epoch 9: val_accuracy did not improve from 0.80263\n",
      "383/383 [==============================] - 184s 482ms/step - loss: 0.0742 - accuracy: 0.9774 - val_loss: 0.8398 - val_accuracy: 0.7842\n",
      "Epoch 10/15\n",
      "383/383 [==============================] - ETA: 0s - loss: 0.0705 - accuracy: 0.9784\n",
      "Epoch 10: val_accuracy improved from 0.80263 to 0.80888, saving model to AffectNet-Ensemble-Vision-RAB-DB.h5\n",
      "383/383 [==============================] - 187s 491ms/step - loss: 0.0705 - accuracy: 0.9784 - val_loss: 0.8740 - val_accuracy: 0.8089\n",
      "Epoch 11/15\n",
      "383/383 [==============================] - ETA: 0s - loss: 0.0594 - accuracy: 0.9815\n",
      "Epoch 11: val_accuracy did not improve from 0.80888\n",
      "383/383 [==============================] - 184s 482ms/step - loss: 0.0594 - accuracy: 0.9815 - val_loss: 0.9230 - val_accuracy: 0.8043\n",
      "Epoch 12/15\n",
      "383/383 [==============================] - ETA: 0s - loss: 0.0608 - accuracy: 0.9816\n",
      "Epoch 12: val_accuracy did not improve from 0.80888\n",
      "383/383 [==============================] - 184s 481ms/step - loss: 0.0608 - accuracy: 0.9816 - val_loss: 0.8877 - val_accuracy: 0.7937\n",
      "Epoch 13/15\n",
      "383/383 [==============================] - ETA: 0s - loss: 0.0560 - accuracy: 0.9830\n",
      "Epoch 13: val_accuracy did not improve from 0.80888\n",
      "383/383 [==============================] - 184s 481ms/step - loss: 0.0560 - accuracy: 0.9830 - val_loss: 0.9817 - val_accuracy: 0.7924\n",
      "Epoch 14/15\n",
      "383/383 [==============================] - ETA: 0s - loss: 0.0540 - accuracy: 0.9819\n",
      "Epoch 14: val_accuracy did not improve from 0.80888\n",
      "383/383 [==============================] - 185s 484ms/step - loss: 0.0540 - accuracy: 0.9819 - val_loss: 1.0359 - val_accuracy: 0.7931\n",
      "Epoch 15/15\n",
      "383/383 [==============================] - ETA: 0s - loss: 0.0656 - accuracy: 0.9798\n",
      "Epoch 15: val_accuracy did not improve from 0.80888\n",
      "383/383 [==============================] - 184s 481ms/step - loss: 0.0656 - accuracy: 0.9798 - val_loss: 0.9576 - val_accuracy: 0.7954\n"
     ]
    }
   ],
   "source": [
    "history = model.fit(\n",
    "    image_generator(train_df, batch_size=32),\n",
    "    steps_per_epoch=len(train_df) // 32,  # Ensure correct number of steps\n",
    "    epochs=15,\n",
    "    validation_data=image_generator(val_df, batch_size=32),\n",
    "    validation_steps=len(val_df) // 32,\n",
    "    callbacks=[checkpoint]\n",
    ")"
   ]
  },
  {
   "cell_type": "code",
   "execution_count": 23,
   "id": "76b8b781-1dd0-424a-a1cc-9df96e610b6f",
   "metadata": {},
   "outputs": [],
   "source": [
    "import os\n",
    "import cv2\n",
    "import numpy as np\n",
    "from tensorflow.keras.utils import to_categorical\n",
    "\n",
    "def preprocess_and_predict_rafdb(model, dataframe, dataset_path=\"raf-db\"):\n",
    "\n",
    "    images = []\n",
    "    labels = []\n",
    "    \n",
    "    num_classes = 7  # Since we have 7 emotions\n",
    "\n",
    "    # Loop through each row of the dataframe\n",
    "    for _, row in dataframe.iterrows():\n",
    "        img_path = os.path.join(dataset_path, str(row['pth']))  # Construct full image path\n",
    "        image = cv2.imread(img_path)\n",
    "\n",
    "        if image is None:\n",
    "            print(f\"Warning: Could not read image {img_path}\")\n",
    "            continue\n",
    "\n",
    "        # Detect and crop face\n",
    "        face = detect_and_crop_face(image)\n",
    "        if face is not None:\n",
    "            images.append(face.astype('float32') / 255.0)  # Normalize image\n",
    "\n",
    "            # Convert label to one-hot encoding\n",
    "            labels.append(to_categorical(row['label'] - 1, num_classes=num_classes))  # Convert 1-7 to index 0-6\n",
    "\n",
    "    # Convert lists to numpy arrays\n",
    "    images = np.array(images)\n",
    "    labels = np.array(labels)\n",
    "\n",
    "    # Predict using the trained model\n",
    "    y_pred = model.predict(images)\n",
    "\n",
    "    # Get predicted class indices\n",
    "    predicted_labels = np.argmax(y_pred, axis=-1)  # Find the highest probability class\n",
    "\n",
    "    return labels, predicted_labels  # Return true one-hot labels and predicted indices\n"
   ]
  },
  {
   "cell_type": "code",
   "execution_count": 29,
   "id": "5fd98553-ac19-424b-892f-0121a4f180ee",
   "metadata": {},
   "outputs": [],
   "source": [
    "model.load_weights('AffectNet-Ensemble-Vision-RAB-DB.h5')"
   ]
  },
  {
   "cell_type": "code",
   "execution_count": 30,
   "id": "991f17df-cb0e-4cdb-921e-7c5d0c85696d",
   "metadata": {},
   "outputs": [
    {
     "name": "stdout",
     "output_type": "stream",
     "text": [
      "96/96 [==============================] - 2s 20ms/step\n"
     ]
    }
   ],
   "source": [
    "true_labels, predicted_labels = preprocess_and_predict_rafdb(model, val_df)\n",
    "true_class_labels = np.argmax(true_labels, axis=-1)  # Convert one-hot labels to class indices\n"
   ]
  },
  {
   "cell_type": "code",
   "execution_count": 33,
   "id": "547e0181-35e8-4d24-ac97-63f9230f20d5",
   "metadata": {},
   "outputs": [
    {
     "name": "stdout",
     "output_type": "stream",
     "text": [
      "Classification Report:\n",
      "              precision    recall  f1-score   support\n",
      "\n",
      "           1       0.83      0.77      0.80       329\n",
      "           2       0.79      0.50      0.61        74\n",
      "           3       0.63      0.42      0.50       160\n",
      "           4       0.89      0.94      0.91      1185\n",
      "           5       0.70      0.81      0.75       478\n",
      "           6       0.78      0.68      0.73       162\n",
      "           7       0.78      0.75      0.77       680\n",
      "\n",
      "    accuracy                           0.81      3068\n",
      "   macro avg       0.77      0.70      0.72      3068\n",
      "weighted avg       0.81      0.81      0.80      3068\n",
      "\n"
     ]
    }
   ],
   "source": [
    "from sklearn.metrics import classification_report\n",
    "\n",
    "# Print classification report\n",
    "print(\"Classification Report:\")\n",
    "print(classification_report(true_class_labels, predicted_labels, target_names=['1', '2', '3', '4', '5', '6', '7']))\n"
   ]
  },
  {
   "cell_type": "code",
   "execution_count": 32,
   "id": "6d4af108-cc65-49e0-8b30-49550f6891ac",
   "metadata": {},
   "outputs": [
    {
     "data": {
      "image/png": "[encoded data removed]",
      "text/plain": [
       "<Figure size 600x400 with 2 Axes>"
      ]
     },
     "metadata": {},
     "output_type": "display_data"
    }
   ],
   "source": [
    "# Generate confusion matrix\n",
    "cm = confusion_matrix(true_class_labels, predicted_labels)\n",
    "\n",
    "# Plot using seaborn\n",
    "plt.figure(figsize=(6, 4))\n",
    "sns.heatmap(cm, annot=True, fmt='d', cmap='Blues', xticklabels=emotion_labels, yticklabels=emotion_labels)\n",
    "plt.xlabel(\"Predicted Label\")\n",
    "plt.ylabel(\"True Label\")\n",
    "plt.title(\"Confusion Matrix\")\n",
    "plt.show()"
   ]
  },
  {
   "cell_type": "code",
   "execution_count": 19,
   "id": "589adbec-089f-4c5a-be0d-fddd3b13f14b",
   "metadata": {},
   "outputs": [
    {
     "data": {
      "image/png": "[encoded data removed]",
      "text/plain": [
       "<Figure size 600x500 with 1 Axes>"
      ]
     },
     "metadata": {},
     "output_type": "display_data"
    },
    {
     "data": {
      "image/png": "[encoded data removed]",
      "text/plain": [
       "<Figure size 600x500 with 1 Axes>"
      ]
     },
     "metadata": {},
     "output_type": "display_data"
    }
   ],
   "source": [
    "import matplotlib.pyplot as plt\n",
    "\n",
    "# Define epochs based on history length\n",
    "epochs = range(1, len(history.history['accuracy']) + 1)\n",
    "\n",
    "# Plot Training vs Validation Accuracy\n",
    "plt.figure(figsize=(6, 5))\n",
    "plt.plot(epochs, history.history['accuracy'], 'bo-', label='Training Accuracy')\n",
    "plt.plot(epochs, history.history['val_accuracy'], 'r*-', label='Validation Accuracy')\n",
    "plt.xlabel('Epochs')\n",
    "plt.ylabel('Accuracy')\n",
    "plt.title('Training vs Validation Accuracy')\n",
    "plt.legend()\n",
    "plt.show()\n",
    "\n",
    "# Plot Training vs Validation Loss\n",
    "plt.figure(figsize=(6, 5))\n",
    "plt.plot(epochs, history.history['loss'], 'bo-', label='Training Loss')\n",
    "plt.plot(epochs, history.history['val_loss'], 'r*-', label='Validation Loss')\n",
    "plt.xlabel('Epochs')\n",
    "plt.ylabel('Loss')\n",
    "plt.title('Training vs Validation Loss')\n",
    "plt.legend()\n",
    "plt.show()"
   ]
  },
  {
   "cell_type": "code",
   "execution_count": null,
   "id": "6a93e311-d059-4162-bf20-e1ebc31c6874",
   "metadata": {},
   "outputs": [],
   "source": []
  }
 ],
 "metadata": {
  "kernelspec": {
   "display_name": "venv-p39-tf2",
   "language": "python",
   "name": "venv-p39-tf2"
  },
  "language_info": {
   "codemirror_mode": {
    "name": "ipython",
    "version": 3
   },
   "file_extension": ".py",
   "mimetype": "text/x-python",
   "name": "python",
   "nbconvert_exporter": "python",
   "pygments_lexer": "ipython3",
   "version": "3.9.21"
  }
 },
 "nbformat": 4,
 "nbformat_minor": 5
}
